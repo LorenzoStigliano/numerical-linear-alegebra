{
 "cells": [
  {
   "cell_type": "markdown",
   "metadata": {},
   "source": [
    "# MATH10098: Numerical Linear Algebra - Workshop week 1\n",
    "\n",
    "There is a introductory Python/Jupyter notebook available in the Workshops Week 1 folder on Learn, which includes information on all commands used in the questions below.\n",
    "\n",
    "This notebook contains a couple of simple exercises to practice your Python skills.\n",
    "\n",
    "A code cell is provided in each exercise, where you can write Python code to answer the questions. You can also create new code or Markdown cells using the toolbar above, for your own code or to discuss results.\n",
    "\n",
    "---"
   ]
  },
  {
   "cell_type": "markdown",
   "metadata": {},
   "source": [
    "### Exercise 1\n",
    "\n",
    "In the code cell below,  define a variable `n` with value $n = 50$. Then:\n",
    "\n",
    "(i) Use the function `np.random.rand` to define `A` to be a random matrix $A$ of dimension $n$.\n",
    "\n",
    "(ii) Using the function `time.time`, find the time required to compute $A^{-1}$ using the function `np.linalg.inv`.\n",
    "\n",
    "(iii) Use the method `.format` to format a string which reports the dimension of $A$ and the time required to compute $A^{-1}$, and print out the string."
   ]
  },
  {
   "cell_type": "code",
   "execution_count": 18,
   "metadata": {},
   "outputs": [
    {
     "name": "stdout",
     "output_type": "stream",
     "text": [
      "A dimension = 50\n",
      "Time taken to inverse A = 0.0057373046875\n"
     ]
    },
    {
     "data": {
      "text/plain": [
       "0.0057373046875"
      ]
     },
     "execution_count": 18,
     "metadata": {},
     "output_type": "execute_result"
    }
   ],
   "source": [
    "import numpy as np\n",
    "import time\n",
    "\n",
    "def exercise1(n):\n",
    "    A = np.random.rand(n,n)\n",
    "\n",
    "    t0 = time.time()\n",
    "    inverse = np.linalg.inv(A)\n",
    "    t1 = time.time() - t0\n",
    "    s = \"A dimension = {}\\nTime taken to inverse A = {}\".format(np.size(A,0),t1)\n",
    "    print(s)\n",
    "    return t1\n",
    "\n",
    "exercise1(50)"
   ]
  },
  {
   "cell_type": "markdown",
   "metadata": {},
   "source": [
    "### Exercise 2\n",
    "\n",
    "In the cell below:\n",
    "\n",
    "(i) Write a `for` loop to repeat (i--iii) from Exercise 1, for $n=50 \\times 2^k$ with $k=1, 2, \\dots, 7$.\n",
    "\n",
    "(ii) Determine the ratio between the computation time for $k$ and the computation time for $k-1$, for $k=2, \\dots, 7$. How does it behave?"
   ]
  },
  {
   "cell_type": "code",
   "execution_count": 20,
   "metadata": {},
   "outputs": [
    {
     "name": "stdout",
     "output_type": "stream",
     "text": [
      "A dimension = 100\n",
      "Time taken to inverse A = 0.016138076782226562\n",
      "A dimension = 200\n",
      "Time taken to inverse A = 0.002149820327758789\n",
      "A dimension = 400\n",
      "Time taken to inverse A = 0.027529239654541016\n",
      "A dimension = 800\n",
      "Time taken to inverse A = 0.19651293754577637\n",
      "A dimension = 1600\n",
      "Time taken to inverse A = 0.9179134368896484\n",
      "A dimension = 3200\n",
      "Time taken to inverse A = 4.9812281131744385\n",
      "A dimension = 6400\n",
      "Time taken to inverse A = 34.71065378189087\n",
      "0.13321415908285072\n",
      "12.805367638904292\n",
      "7.138335094313478\n",
      "4.6710076616498934\n",
      "5.426686126366491\n",
      "6.968292355471039\n"
     ]
    },
    {
     "ename": "IndexError",
     "evalue": "list index out of range",
     "output_type": "error",
     "traceback": [
      "\u001b[0;31m---------------------------------------------------------------------------\u001b[0m",
      "\u001b[0;31mIndexError\u001b[0m                                Traceback (most recent call last)",
      "\u001b[0;32m<ipython-input-20-e4bf9b42caf7>\u001b[0m in \u001b[0;36m<module>\u001b[0;34m\u001b[0m\n\u001b[1;32m     10\u001b[0m \u001b[0;34m\u001b[0m\u001b[0m\n\u001b[1;32m     11\u001b[0m \u001b[0;32mfor\u001b[0m \u001b[0mi\u001b[0m \u001b[0;32min\u001b[0m \u001b[0mrange\u001b[0m\u001b[0;34m(\u001b[0m\u001b[0;36m1\u001b[0m\u001b[0;34m,\u001b[0m\u001b[0;36m8\u001b[0m\u001b[0;34m)\u001b[0m\u001b[0;34m:\u001b[0m\u001b[0;34m\u001b[0m\u001b[0;34m\u001b[0m\u001b[0m\n\u001b[0;32m---> 12\u001b[0;31m     \u001b[0mprint\u001b[0m\u001b[0;34m(\u001b[0m\u001b[0mtimes\u001b[0m\u001b[0;34m[\u001b[0m\u001b[0mi\u001b[0m\u001b[0;34m]\u001b[0m\u001b[0;34m/\u001b[0m\u001b[0mtimes\u001b[0m\u001b[0;34m[\u001b[0m\u001b[0mi\u001b[0m\u001b[0;34m-\u001b[0m\u001b[0;36m1\u001b[0m\u001b[0;34m]\u001b[0m\u001b[0;34m)\u001b[0m\u001b[0;34m\u001b[0m\u001b[0;34m\u001b[0m\u001b[0m\n\u001b[0m",
      "\u001b[0;31mIndexError\u001b[0m: list index out of range"
     ]
    }
   ],
   "source": [
    "import numpy as np\n",
    "import time\n",
    "\n",
    "times = []\n",
    "\n",
    "for k in range(1,8):\n",
    "    n = 50*(2**k)\n",
    "    t = exercise1(n)\n",
    "    times.append(t)\n",
    "\n",
    "for i in range(1,8):\n",
    "    print(times[i]/times[i-1])"
   ]
  },
  {
   "cell_type": "code",
   "execution_count": null,
   "metadata": {},
   "outputs": [],
   "source": []
  }
 ],
 "metadata": {
  "kernelspec": {
   "display_name": "Python 3",
   "language": "python",
   "name": "python3"
  },
  "language_info": {
   "codemirror_mode": {
    "name": "ipython",
    "version": 3
   },
   "file_extension": ".py",
   "mimetype": "text/x-python",
   "name": "python",
   "nbconvert_exporter": "python",
   "pygments_lexer": "ipython3",
   "version": "3.7.6"
  }
 },
 "nbformat": 4,
 "nbformat_minor": 2
}
