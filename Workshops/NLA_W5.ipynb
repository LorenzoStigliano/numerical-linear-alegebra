{
 "cells": [
  {
   "cell_type": "markdown",
   "metadata": {},
   "source": [
    "# MATH10098: Numerical Linear Algebra - Workshop week 5\n",
    "\n",
    "# Pair-programming\n",
    "\n",
    "In the computer labs in this course, you will work on a programming task together with a partner, using a method called **pair programming**. \n",
    "\n",
    "## What is pair programming?\n",
    "\n",
    "Pair programming is a method where two people (usually) sit in front of the same computer. Each person has a specific role:\n",
    "- The **driver** writes and runs the code, and is the only person allowed to do it. They explain what they do to the navigator.\n",
    "- The **navigator** observes and helps the driver, spots errors in the code, gives suggestions and ideas... They are not allowed to write code.\n",
    "\n",
    "The two programmers decide who should \"drive\" first, and that person takes the keyboard to start working. The other person, the navigator, watches the screen and helps the driver with the task -- without touching the mouse or keyboard.\n",
    "\n",
    "Then, after a while, the driver passes the keyboard and mouse to the navigator, and they switch roles.\n",
    "\n",
    "## How does it work online?\n",
    "\n",
    "This year, unfortunately, you won't be able to sit next to your partner and to share a computer. Instead, you will use Teams to communicate, share your screens, and \"pass the keyboard\" when you switch roles. During computer labs, we will typically ask you to switch roles every 15 minutes or so.\n",
    "\n",
    "A typical workflow in an online computer lab:\n",
    "\n",
    "1. Go the channel in Teams based on your surname, where your tutor will start a meeting.\n",
    "2. Your tutor breaks the group into pairs, and each pair starts their own meeting.\n",
    "3. Decide which one of you starts as the driver. The driver downloads the Jupyter notebook from Learn, and starts screen sharing.\n",
    "4. Work through the exercises, switching roles every 10-15 minutes.\n",
    "5. At the end, make sure both of you have a copy of all the code that you wrote!\n",
    "\n",
    "## How do we switch roles?\n",
    "\n",
    "When you switch roles, you need to pass on the code that the driver has written so far to the new driver. This can be done in the following ways:\n",
    "\n",
    "Option 1: Using Teams\n",
    "1. The old driver goes to the meeting chat, clicks on Format -> Code snippet and posts the code there. \n",
    "\n",
    "Option 2: Using pastebin\n",
    "1. The old driver goes to to https://pastebin.com/.\n",
    "2. The old driver copies the code they want to share, and pastes it into the pastebin website.\n",
    "3. The old driver clicks on \"Create paste\", and shares the new URL with the new driver.\n",
    "4. The new driver copies the code from the URL, and pastes it into their Jupyter notebook."
   ]
  },
  {
   "cell_type": "markdown",
   "metadata": {},
   "source": [
    "# Computer lab exercises\n",
    "Work on these exercises with your partner during the live computer lab.\n",
    "\n",
    "### Exercise 1 \n",
    "\n",
    "Write a function that uses the LU factorisation of $\\mathbf A$ to compute $det(\\mathbf A)$. You may use any properties of determinants without proof, but you should state which properties you are using in the comments.\n",
    "\n",
    "Test your code on the example at the bottom of the code cell (the correct answer is -8).\n",
    "\n",
    "*Python's built in determinant function np.linalg.det is in fact based on an LU factorisation with partial pivoting.*"
   ]
  },
  {
   "cell_type": "code",
   "execution_count": 20,
   "metadata": {},
   "outputs": [
    {
     "name": "stdout",
     "output_type": "stream",
     "text": [
      "[[1.         0.         0.        ]\n",
      " [0.66666667 1.         0.        ]\n",
      " [0.33333333 0.8        1.        ]] [[ 6.          7.          8.        ]\n",
      " [ 0.         -1.66666667 -2.33333333]\n",
      " [ 0.          0.         -0.8       ]]\n",
      "7.999999999999997\n"
     ]
    }
   ],
   "source": [
    "import numpy as np\n",
    "import scipy.linalg as la\n",
    "\n",
    "def LU(A):\n",
    "    \n",
    "    n = A.shape[0]\n",
    "    L = np.eye(n)\n",
    "    U = A\n",
    "    \n",
    "    for k in range(0,n):\n",
    "        for j in range(k+1,n):\n",
    "            \n",
    "            L[j,k] = U[j,k]/U[k,k]\n",
    "            U[j,k:n-1] = U[j,k:n-1] - L[j,k]*U[k,k:n-1]\n",
    "            \n",
    "            \n",
    "    return L, U\n",
    "\n",
    "def det(A):\n",
    "    \n",
    "    # det(A) = det(LU) = det(L)*det(U) = (product of diagonals of L)*(product of diagonals of U)\n",
    "    \n",
    "    n = A.shape[0]\n",
    "    P, L, U = la.lu(A)\n",
    "    print(L,U)\n",
    "    L_m = L[0,0]\n",
    "    U_m = U[0,0]\n",
    "    \n",
    "    for i in range(1,n):\n",
    "        for j in range(1,n):\n",
    "            if(i == j):\n",
    "                L_m = L_m * L[i,j]\n",
    "                U_m = U_m * U[i,j]\n",
    "    \n",
    "    d = L_m*U_m\n",
    "    \n",
    "    return d\n",
    "\n",
    "# Testing the function on the given example\n",
    "A = np.array([[2, 1, 0], [4, 3, 3], [6, 7, 8]], dtype=float)\n",
    "d = det(A)\n",
    "print(d)"
   ]
  },
  {
   "cell_type": "markdown",
   "metadata": {},
   "source": [
    "### Exercise 2\n",
    "\n",
    "Consider the system of linear equations\n",
    "$$\n",
    "\\mathbf A \\mathbf x = \\mathbf b,\n",
    "$$\n",
    "where $\\mathbf A \\in \\mathbb R^{n \\times n}$ is invertible and $\\mathbf b \\in \\mathbb R^n$.\n",
    "\n",
    "Cramer's rule states that the solution is given by\n",
    "$$\n",
    "x_i = \\frac{det (\\mathbf {A_i})}{det(\\mathbf A)}, \\qquad i=1, \\dots, n, \n",
    "$$\n",
    "where $\\mathbf {A_i} \\in \\mathbb R^{n \\times n}$ is the matrix $\\mathbf A$ with the $i$th column replaced by $\\mathbf b$ and $det$ denotes the determinant.\n",
    "\n",
    "Write a function *solve_Cramer* that computes the solution $\\bf x$ using Cramer's rule. You can use your function *det* from Exercise 1, or the built-in Python routine np.linalg.det."
   ]
  },
  {
   "cell_type": "code",
   "execution_count": 103,
   "metadata": {},
   "outputs": [
    {
     "data": {
      "text/plain": [
       "(array([ 4., 10., 24.]),\n",
       " array([[ 4.],\n",
       "        [10.],\n",
       "        [24.]]))"
      ]
     },
     "execution_count": 103,
     "metadata": {},
     "output_type": "execute_result"
    }
   ],
   "source": [
    "import numpy as np\n",
    "\n",
    "def solve_Cramer(A,b):\n",
    "    \n",
    "    n = len(b)\n",
    "    det_A = np.linalg.det(A)\n",
    "    b_column = b\n",
    "    x = []\n",
    "    \n",
    "    for i in range(n):\n",
    "        if i == 0:\n",
    "            A_i = np.append(b_column, A[:,1:], axis=1)\n",
    "            x_i = np.linalg.det(A_i)/det_A\n",
    "            x.append(x_i)\n",
    "            \n",
    "        elif i == n-1:\n",
    "            A_i = np.append(A[:,:i], b_column, axis=1)\n",
    "            x_i = np.linalg.det(A_i)/det_A\n",
    "            x.append(x_i)\n",
    "            \n",
    "        else:\n",
    "            A_left = np.append(A[:,:i], b_column, axis=1)\n",
    "            A_i = np.append(A_left, A[:,i+1:], axis=1) \n",
    "            x_i = np.linalg.det(A_i)/det_A\n",
    "            x.append(x_i)\n",
    "    \n",
    "    return x\n",
    "\n",
    "# Testing the function on the given example\n",
    "A = np.array([[2, 1, 0], [4, 3, 3], [6,7,8]], dtype=float)\n",
    "b = np.array([[4],[10],[24]], dtype=float) \n",
    "x = solve_Cramer(A,b)\n",
    "\n",
    "A@x, b"
   ]
  },
  {
   "cell_type": "code",
   "execution_count": 104,
   "metadata": {},
   "outputs": [
    {
     "name": "stdout",
     "output_type": "stream",
     "text": [
      "[[0.]\n",
      " [3.]\n",
      " [8.]]\n"
     ]
    }
   ],
   "source": [
    "A = np.array([[2, 1, 0], [4, 3, 3], [6,7,8]], dtype=float)\n",
    "b = np.array([4,10,24], dtype=float) \n",
    "b = np.array([[4],[10],[24]], dtype=float) \n",
    "A_i = np.append(A[:,:2], b, axis=1)\n",
    "print(A[:,1+1:])"
   ]
  },
  {
   "cell_type": "markdown",
   "metadata": {},
   "source": [
    "### Exercise 3\n",
    "\n",
    "How does Cramer's rule from Exercise 2 compare to the built-in Python solver np.linalg.solve in terms of computational time and accuracy of the computed solution? Test the two methods on matrices of varying size $n$ between 10 and 150."
   ]
  },
  {
   "cell_type": "code",
   "execution_count": 106,
   "metadata": {},
   "outputs": [],
   "source": [
    "import numpy as np\n",
    "import time\n",
    "\n",
    "ns = [n for n in range(10,150,10)]\n",
    "crammer_times = []\n",
    "inbuilt_times = []\n",
    "\n",
    "for n in ns:\n",
    "    \n",
    "    A = np.random.random((n,n))\n",
    "    b = np.random.random((n,1))\n",
    "    time_0 = time.time()\n",
    "    solve_Cramer(A,b)\n",
    "    time_end = time.time() - time_0\n",
    "    \n",
    "    crammer_times.append(time_end)\n",
    "    \n",
    "    time_0 = time.time()\n",
    "    np.linalg.solve(A,b)\n",
    "    time_end = time.time() - time_0\n",
    "    \n",
    "    inbuilt_times.append(time_end)"
   ]
  },
  {
   "cell_type": "code",
   "execution_count": 113,
   "metadata": {},
   "outputs": [
    {
     "data": {
      "text/plain": [
       "<matplotlib.legend.Legend at 0x7fa97d385dd0>"
      ]
     },
     "execution_count": 113,
     "metadata": {},
     "output_type": "execute_result"
    },
    {
     "data": {
      "image/png": "[encoded data removed]",
      "text/plain": [
       "<Figure size 432x288 with 1 Axes>"
      ]
     },
     "metadata": {
      "needs_background": "light"
     },
     "output_type": "display_data"
    }
   ],
   "source": [
    "import matplotlib.pyplot as plt\n",
    "\n",
    "fig, ax = plt.subplots()\n",
    "\n",
    "ax.scatter(ns,crammer_times,label = 'Crammer times')\n",
    "ax.scatter(ns,inbuilt_times, label = 'In Built times')\n",
    "fig.legend()"
   ]
  },
  {
   "cell_type": "markdown",
   "metadata": {},
   "source": [
    "### Exercise 4\n",
    "\n",
    "In the code cell below, code an *efficient* algorithm to solve the system of equations $\\mathbf{A}^m \\mathbf{x} = \\mathbf{b},$ for some $m \\in \\mathbb N$. \n",
    "\n",
    "The computational cost of your algorithm should *not* contain a term involving $m n^3$, which is prohibitively large for large m!\n",
    "\n",
    "*Hint: rewrite $\\mathbf{A}^m \\mathbf{x} = \\mathbf{b}$ as a sequence of $m$ systems of linear equations*."
   ]
  },
  {
   "cell_type": "code",
   "execution_count": null,
   "metadata": {
    "collapsed": true
   },
   "outputs": [],
   "source": [
    "import numpy as np\n",
    "\n",
    "# add code here"
   ]
  },
  {
   "cell_type": "markdown",
   "metadata": {},
   "source": [
    "---"
   ]
  },
  {
   "cell_type": "markdown",
   "metadata": {},
   "source": [
    "# Individual exercises\n",
    "Work on these exercises in your own time.\n",
    "\n",
    "### Exercise 5\n",
    "\n",
    "For $n=50 \\times 2^k$ with $k=1, 2, \\dots, 5$:\n",
    "\n",
    "(i) Set up a random matrix `A` of dimension $n$.\n",
    "\n",
    "(ii) Create a vector `xsol` to represent a vector $x^{\\ast} \\in \\mathbb{R}^n$, all of whose entries are $1$.\n",
    "\n",
    "(iii) Compute the vector `b` such that $b = Ax^\\ast$.\n",
    "\n",
    "(iv) Use Algorithm GE to solve $Ax=b$, and store the solution in the variable `x1`. Take note of the elapsed time, as well as the $\\infty-$norm of the residual `A @ x1 - b` and the error `xsol - x1`. You may wish to use functions you have written in previous workshops.\n",
    "\n",
    "(v) Use Algorithm GEPP to solve $Ax=b$, and store the solution in the variable `x2`. Take note of the elapsed time, as well as the $\\infty-$norm of the residual `A @ x2 - b` and the error `xsol - x2`.\n",
    "\n",
    "How do the elapsed times of the two algorithms compare? Is this what you expected?\n",
    "\n",
    "How do the norms of the residual and the error compare? Is this what you expected?"
   ]
  },
  {
   "cell_type": "code",
   "execution_count": null,
   "metadata": {
    "collapsed": true
   },
   "outputs": [],
   "source": [
    "import numpy as np\n",
    "import time\n",
    "\n",
    "# add code here"
   ]
  },
  {
   "cell_type": "markdown",
   "metadata": {},
   "source": [
    "---"
   ]
  },
  {
   "cell_type": "markdown",
   "metadata": {},
   "source": [
    "### Exercise 6 (Difficult, Algorithm SQR with Householder)\n",
    "\n",
    "Write an *efficient* implementation of Algorithm SQR, with the QR factorisation computed by the Householder method (Algorithm QR)."
   ]
  },
  {
   "cell_type": "code",
   "execution_count": null,
   "metadata": {
    "collapsed": true
   },
   "outputs": [],
   "source": [
    "import numpy as np\n",
    "\n",
    "# add code here\n"
   ]
  }
 ],
 "metadata": {
  "kernelspec": {
   "display_name": "Python 3",
   "language": "python",
   "name": "python3"
  },
  "language_info": {
   "codemirror_mode": {
    "name": "ipython",
    "version": 3
   },
   "file_extension": ".py",
   "mimetype": "text/x-python",
   "name": "python",
   "nbconvert_exporter": "python",
   "pygments_lexer": "ipython3",
   "version": "3.7.6"
  }
 },
 "nbformat": 4,
 "nbformat_minor": 2
}
