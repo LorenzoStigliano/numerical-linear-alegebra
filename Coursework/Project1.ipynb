{
 "cells": [
  {
   "cell_type": "markdown",
   "metadata": {},
   "source": [
    "# Project 1\n",
    "\n",
    "This assessment is marked out of 100 and comprises 15% of the final course mark.\n",
    "\n",
    "Due by 23:59 on Wednesday November 4th, to be submitted on Learn.\n",
    "\n",
    "### Academic misconduct\n",
    "\n",
    "The assessment is summative in nature. You are expected to be aware of and abide by University policies on academic misconduct.\n",
    "\n",
    "- [School of Mathematics academic misconduct advice and policies](https://teaching.maths.ed.ac.uk/main/undergraduate/studies/assessment/academic-misconduct)\n",
    "- [Academic Services academic misconduct information](https://www.ed.ac.uk/academic-services/students/conduct/academic-misconduct)\n",
    "\n",
    "**This is an individual assignment - do not copy the work of another student.**\n",
    "\n",
    "If you use any resources (e.g. textbooks or websites), then include appropriate references in your solutions. Course materials do not need to be referenced, but you should clearly state which results you are using.\n",
    "\n",
    "\n",
    "### Code commentary\n",
    "\n",
    "Your code should be extensively commented, with the functionality of each line of code explained with a comment. This is to test your understanding of the code you have written. Up to half of the marks associated with the coding part of a question may be deducted for a missing, incomplete, or inaccurate code commentary.\n",
    "\n",
    "Your comments should explain what the code does, as well as why it does it.\n",
    "\n",
    "The following provides an example of the expected level of commenting."
   ]
  },
  {
   "cell_type": "code",
   "execution_count": 1,
   "metadata": {},
   "outputs": [],
   "source": [
    "def is_prime(n):\n",
    "    \"\"\"\n",
    "    Return whether an input positive integer is prime.\n",
    "    \"\"\"\n",
    "    \n",
    "    if n == 1:        # If n is 1 ...\n",
    "        return False  # ... then n is not prime\n",
    "    \n",
    "    for i in range(2, n):  # Test integers i from 2 to n - 1 inclusive\n",
    "        if n % i == 0:     # If n is divisible by i ...\n",
    "            return False   # ... then n is not prime\n",
    "    # If n is not divisible by any integers from 2 to n - 1 inclusive then n is\n",
    "    # prime\n",
    "    return True"
   ]
  },
  {
   "cell_type": "markdown",
   "metadata": {},
   "source": [
    "### Code efficiency\n",
    "\n",
    "To obtain full marks, your code and pseudo-code should be *efficient* in the sense of avoiding unnecessary artihmetic operations. \n",
    "\n",
    "### Output \n",
    "\n",
    "Your code must generate and display all relevant output when run. Rerun your code cells after editing your code, to make sure that the output is updated.\n",
    "\n",
    "### Re-using code\n",
    "\n",
    "You may re-use your own code from previous workshops. You may also use the model solutions for workshop exercises posted on Learn, and Jupyter notebooks from lecture material posted on Learn. Any code you re-use should be commented to the level explained above, even if you are using the model solutions. The only exception to the latter is the function randsvd, introduced in the Week3.2 notebook in lectures, which may be used without further commenting.\n",
    "\n",
    "### Markdown cells\n",
    "\n",
    "You can enter your answers to theoretical questions in the Markdown cells provided in this notebook. To start editing the cell, press shift+enter or double click on it. You can use basic Latex. To render the cell, press shift+enter or run.\n",
    "\n",
    "Alternatively, you can submit your hand-written and scanned in answers to the theoretical questions on Learn, alongside this notebook. "
   ]
  },
  {
   "cell_type": "markdown",
   "metadata": {},
   "source": [
    "# Question 1 [80 marks]\n",
    "\n",
    "Consider the system of linear equations\n",
    "$$\n",
    "\\mathbf A \\mathbf x = \\mathbf b,\n",
    "$$\n",
    "where $\\mathbf A \\in \\mathbb R^{n \\times n}$ is invertible and $\\mathbf b \\in \\mathbb R^n$.\n",
    "\n",
    "In this question, we want to compute the solution $\\mathbf x$ using the UL factorisation $\\mathbf A = \\mathbf U \\mathbf L$, where $\\mathbf U$ is unit upper triangular and $\\mathbf L$ is non-singular lower triangular. You may assume that such a factorisation exists for the given $\\mathbf A$.\n",
    "\n",
    "### 1.1\n",
    "\n",
    "Similar to Algorithm GE, write down an algorithm called Algorithm GE_UL to compute $\\mathbf x$ using the UL factorisation $\\mathbf A = \\mathbf U \\mathbf L$.\n",
    "\n",
    "**[5 marks]**"
   ]
  },
  {
   "cell_type": "markdown",
   "metadata": {},
   "source": [
    "**Answer to Q1.1**\n",
    "\n",
    "Input: $\\mathbf A \\in \\mathbb R^{n \\times n}$, $\\mathbf b \\in \\mathbb R^{n}$ <br>\n",
    "Output: $\\mathbf x \\in \\mathbb R^{n}$, with $Ax = b$ <br>\n",
    "<br>\n",
    "1: Find $UL$ factorisation of $A$. <br>\n",
    "2: Solve $Uy = b$ using back substitution. <br>\n",
    "3: Solve $Lx = y$ using forward substitution."
   ]
  },
  {
   "cell_type": "markdown",
   "metadata": {},
   "source": [
    "### 1.2\n",
    "\n",
    "Let\n",
    "\t\t$$\\mathbf{A} =\n",
    "\t\t\t\\begin{bmatrix}\n",
    "\t\t\t\t11\t&\t5\t&\t3\t\\\\\n",
    "\t\t\t\t12\t&\t5\t&\t4\t\\\\\n",
    "\t\t\t\t3\t&\t1\t&\t1\t\\\\\n",
    "\t\t\t\\end{bmatrix}.\n",
    "\t\t$$\n",
    "        \n",
    "Find upper triangular matrices $\\mathbf U_1$ and $\\mathbf U_2$ such that\n",
    "\n",
    "- the product $\\mathbf U_1 \\mathbf A$ creates zeros above the diagonal in column 3 of $\\mathbf A$ by subtracting a multiple of row 3 from rows 1 and 2,\n",
    "- the product $\\mathbf U_2 \\mathbf U_1 \\mathbf A$ creates zeros above the diagonal in column 2 of $\\mathbf U_1 \\mathbf A$ by subtracting a multiple of row 2 from row 1.\n",
    "\n",
    "Explain how you found the matrices $\\mathbf U_1$ and $\\mathbf U_2$.\n",
    "\n",
    "**[5 marks]**"
   ]
  },
  {
   "cell_type": "markdown",
   "metadata": {},
   "source": [
    "**Answer to Q1.2**\n",
    "\n",
    "1) the product $\\mathbf U_1 \\mathbf A$ creates zeros above the diagonal in column 3 of $\\mathbf A$ by subtracting a multiple of row 3 from rows 1 and 2\n",
    "\n",
    "Let\n",
    "$$ A = \n",
    "\\left[\n",
    "\\begin{array}{ccc}\n",
    "11\t&\t5\t&\t3\t\\\\\n",
    "12\t&\t5\t&\t4\t\\\\\n",
    "3\t&\t1\t&\t1\t\\\\\n",
    "\\end{array}\n",
    "\\right]and \\;  \\mathbf U_1 =\n",
    "\\left[\n",
    "\\begin{array}{ccc}\n",
    "1\t&\t0\t&\t0\t\\\\\n",
    "0\t&\t1\t&\t0\t\\\\\n",
    "0\t&\t0\t&\t1\t\\\\\n",
    "\\end{array}\n",
    "\\right] \n",
    "$$\n",
    "\n",
    "Using gaissian elimination we can find the matrix $\\mathbf U_1$ such that the product $\\mathbf U_1 \\mathbf A$ creates zeros above the diagonal in column 3 of $\\mathbf A$ by subtracting a multiple of row 3 from rows 1 and 2. In the first step we subtract 4 times the row 3 form row 2. In the second step we subtract 3 times the row 3 from row 1.\n",
    "<br>\n",
    "            \n",
    "$$\n",
    "\\left[\n",
    "\\begin{array}{ccc|ccc}\n",
    "1 & 0 & 0 & 11 & 5 & 3 \\\\\n",
    "0 & 1 & 0 & 12 & 5 & 4 \\\\\n",
    "0 & 0 & 1 & 3 & 1 & 1 \\\\\n",
    "\\end{array}\n",
    "\\right]\n",
    "= \n",
    "\\left[\n",
    "\\begin{array}{ccc|ccc}\n",
    "1 & 0 & 0 & 11 & 5 & 3 \\\\\n",
    "0 & 1 & -4 & 0 & 1 & 0 \\\\\n",
    "0 & 0 & 1 & 3 & 1 & 1 \\\\\n",
    "\\end{array}\n",
    "\\right]\n",
    "= \n",
    "\\left[\n",
    "\\begin{array}{ccc|ccc}\n",
    "1 & 0 & -3 & 2 & 2 & 0 \\\\\n",
    "0 & 1 & -4 & 0 & 1 & 0 \\\\\n",
    "0 & 0 & 1 & 3 & 1 & 1 \\\\\n",
    "\\end{array}\n",
    "\\right]\n",
    "$$\n",
    "<br><br>\n",
    "As a result we get that:\n",
    "$$ \\mathbf U_1 A = \n",
    "\\left[\n",
    "\\begin{array}{ccc}\n",
    "2\t&\t2\t&\t0\t\\\\\n",
    "0\t&\t1\t&\t0\t\\\\\n",
    "3\t&\t1\t&\t1\t\\\\\n",
    "\\end{array}\n",
    "\\right]where  \\; \\mathbf U_1 =\n",
    "\\left[\n",
    "\\begin{array}{ccc}\n",
    "1\t&\t0\t&\t-3\t\\\\\n",
    "0\t&\t1\t&\t-4\t\\\\\n",
    "0\t&\t0\t&\t1\t\\\\\n",
    "\\end{array}\n",
    "\\right] \n",
    "$$\n",
    "\n",
    "2) the product $\\mathbf U_2 \\mathbf U_1 \\mathbf A$ creates zeros above the diagonal in column 2 of $\\mathbf U_1 \\mathbf A$ by subtracting a multiple of row 2 from row 1.\n",
    "\n",
    "\n",
    "\n",
    "Let\n",
    "$$ \\mathbf U_1 A = \n",
    "\\left[\n",
    "\\begin{array}{ccc}\n",
    "2\t&\t2\t&\t0\t\\\\\n",
    "0\t&\t1\t&\t0\t\\\\\n",
    "3\t&\t1\t&\t1\t\\\\\n",
    "\\end{array}\n",
    "\\right] and \\:  \\mathbf U_2 =\n",
    "\\left[\n",
    "\\begin{array}{ccc}\n",
    "1\t&\t0\t&\t0\t\\\\\n",
    "0\t&\t1\t&\t0\t\\\\\n",
    "0\t&\t0\t&\t1\t\\\\\n",
    "\\end{array}\n",
    "\\right] \n",
    "$$\n",
    "\n",
    "Again using gaussian elimination we can find the matrix $\\mathbf U_2$ such that the product $\\mathbf U_2 \\mathbf U_1 \\mathbf A$ creates zeros above the diagonal in column 2 of $\\mathbf U_1 \\mathbf A$ by subtracting 2 times row 2 from row 1.\n",
    "<br>\n",
    "            \n",
    "$$\n",
    "\\left[\n",
    "\\begin{array}{ccc|ccc}\n",
    "1 & 0 & 0 & 2 & 2 & 0 \\\\\n",
    "0 & 1 & 0 & 0 & 1 & 0 \\\\\n",
    "0 & 0 & 1 & 3 & 1 & 1 \\\\\n",
    "\\end{array}\n",
    "\\right]\n",
    "= \n",
    "\\left[\n",
    "\\begin{array}{ccc|ccc}\n",
    "1 & -2 & 0 & 2 & 0 & 0 \\\\\n",
    "0 & 1 & 0 & 0 & 1 & 0 \\\\\n",
    "0 & 0 & 1 & 3 & 1 & 1 \\\\\n",
    "\\end{array}\n",
    "\\right]\n",
    "$$\n",
    "<br><br>\n",
    "As a result we get that \n",
    "$$\\mathbf U_2  \\mathbf U_1  A = \n",
    "\\left[\n",
    "\\begin{array}{ccc}\n",
    "2\t&\t0\t&\t0\t\\\\\n",
    "0\t&\t1\t&\t0\t\\\\\n",
    "3\t&\t1\t&\t1\t\\\\\n",
    "\\end{array}\n",
    "\\right] where \\:  \\mathbf U_2 =\n",
    "\\left[\n",
    "\\begin{array}{ccc}\n",
    "1\t&\t-2\t&\t0\t\\\\\n",
    "0\t&\t1\t&\t0\t\\\\\n",
    "0\t&\t0\t&\t1\t\\\\\n",
    "\\end{array}\n",
    "\\right] \n",
    "$$"
   ]
  },
  {
   "cell_type": "markdown",
   "metadata": {},
   "source": [
    "### Lemma A\n",
    "\n",
    "Similar to Lemma 2.2, we have the following results on upper triangular matrices, which you may use without proof.\n",
    "\n",
    "(i). Let $\\mathbf{B}$ be unit upper triangular with non-zero entries above the diagonal only in column $k$. Show that $\\mathbf{B}^{-1}$ is also unit upper triangular with non-zero entries above the diagonal only in column $k$, and $\\left( \\mathbf{B}^{-1} \\right)_{ik}=-b_{ik}$, for all $i<k$.\n",
    "\n",
    "(ii). Let $\\mathbf{B}$ and $\\mathbf{C}$ be unit upper triangular $n\\times n$ matrices, where $\\mathbf{B}$ has non-zero entries above the diagonal only in columns $k$ to $n$, and $\\mathbf{C}$ has non-zero entries above the diagonal only in columns $1$ to $k-1$. Then $\\mathbf{BC}$ is unit upper triangular, with $\\left( \\mathbf{BC} \\right)_{ij}=b_{ij}$ for $j\\geqslant k$, and $\\left( \\mathbf{BC} \\right)_{ij}=c_{ij}$ for $j\\leqslant k-1$."
   ]
  },
  {
   "cell_type": "markdown",
   "metadata": {},
   "source": [
    "### 1.3\n",
    "\n",
    "For\n",
    "\t\t$$\\mathbf{A} =\n",
    "\t\t\t\\begin{bmatrix}\n",
    "\t\t\t\t11\t&\t5\t&\t3\t\\\\\n",
    "\t\t\t\t12\t&\t5\t&\t4\t\\\\\n",
    "\t\t\t\t3\t&\t1\t&\t1\t\\\\\n",
    "\t\t\t\\end{bmatrix}\n",
    "\t\t$$\n",
    "        \n",
    "as in question 1.2, find the UL factorisation $\\mathbf A = \\mathbf U \\mathbf L$.\n",
    "\n",
    "**[5 marks]**"
   ]
  },
  {
   "cell_type": "markdown",
   "metadata": {
    "collapsed": true
   },
   "source": [
    "**Answer to Q1.3**\n",
    "\n",
    "From **Q1.2** we have that $\\mathbf U_2\\mathbf U_1\\mathbf A = \\mathbf L$. We can easily see that:\n",
    "\n",
    "$$\\mathbf U_2\\mathbf U_1\\mathbf A = \\mathbf L \\Leftrightarrow \\mathbf A = (\\mathbf U_2\\mathbf U_1)^{-1}\\mathbf L \\Leftrightarrow \\mathbf A = \\mathbf U_1^{-1} \\mathbf U_2^{-1}\\mathbf L $$ \n",
    "\n",
    "By Lemma A (i) we know that both $\\mathbf U_1^{-1}$ and $\\mathbf U_2^{-1}$ are also upper triangular with non zeros above the diagonal only in column k with $\\left( \\mathbf{B}^{-1} \\right)_{ik}=-b_{ik}$, for all $i<k$. As a result of Lemma A (i) we have that:\n",
    "\n",
    "$$\\mathbf U_1^{-1}= \n",
    "\\left[\n",
    "\\begin{array}{ccc}\n",
    "1\t&\t0\t&\t3\t\\\\\n",
    "0\t&\t1\t&\t4\t\\\\\n",
    "0\t&\t0\t&\t1\t\\\\\n",
    "\\end{array}\n",
    "\\right], \\mathbf U_2^{-1} =\n",
    "\\left[\n",
    "\\begin{array}{ccc}\n",
    "1\t&\t2\t&\t0\t\\\\\n",
    "0\t&\t1\t&\t0\t\\\\\n",
    "0\t&\t0\t&\t1\t\\\\\n",
    "\\end{array}\n",
    "\\right] \n",
    "$$\n",
    "\n",
    "And by Lemma A (ii) we can simply find U by adding $\\mathbf U_1^{-1}$ and $\\mathbf U_2^{-1}$ together to get $U$:\n",
    "\n",
    "$$\\mathbf U = \\mathbf U_1^{-1} + \\mathbf U_2^{-1} =\n",
    "\\left[\n",
    "\\begin{array}{ccc}\n",
    "1\t&\t2\t&\t3\t\\\\\n",
    "0\t&\t1\t&\t4\t\\\\\n",
    "0\t&\t0\t&\t1\t\\\\\n",
    "\\end{array}\n",
    "\\right] \n",
    "$$\n",
    "\n",
    "As a result we have found $U$ upper triangular and $L$ lower trinagular where:\n",
    "\n",
    "$$\\mathbf U =\n",
    "\\left[\n",
    "\\begin{array}{ccc}\n",
    "1\t&\t2\t&\t3\t\\\\\n",
    "0\t&\t1\t&\t4\t\\\\\n",
    "0\t&\t0\t&\t1\t\\\\\n",
    "\\end{array}\n",
    "\\right]and \\;\n",
    "\\mathbf L = (\\mathbf U_1 * \\mathbf U_2)* A = \n",
    "\\left[\n",
    "\\begin{array}{ccc}\n",
    "2\t&\t0\t&\t0\t\\\\\n",
    "0\t&\t1\t&\t0\t\\\\\n",
    "3\t&\t1\t&\t1\t\\\\\n",
    "\\end{array}\n",
    "\\right]\n",
    "$$\n",
    "\n",
    "Thus we have found the UL factorisation $\\mathbf A = \\mathbf U \\mathbf L$ we can confirm this from the snipet of code below:"
   ]
  },
  {
   "cell_type": "code",
   "execution_count": 2,
   "metadata": {},
   "outputs": [
    {
     "data": {
      "text/plain": [
       "array([[ True,  True,  True],\n",
       "       [ True,  True,  True],\n",
       "       [ True,  True,  True]])"
      ]
     },
     "execution_count": 2,
     "metadata": {},
     "output_type": "execute_result"
    }
   ],
   "source": [
    "import numpy as np\n",
    "\n",
    "A = np.array([[11, 5, 3], [12, 5, 4], [3, 1, 1]], dtype=float)\n",
    "U = np.array([[1, 2, 3], [0, 1, 4], [0, 0, 1]], dtype=float)\n",
    "L = np.array([[2, 0, 0], [0, 1, 0], [3, 1, 1]], dtype=float)\n",
    "\n",
    "A == U@L"
   ]
  },
  {
   "cell_type": "markdown",
   "metadata": {},
   "source": [
    "### 1.4\n",
    "\n",
    "Similar to Algorithm LU, write down an algorithm called Algorithm UL that computes the UL factorisation $\\mathbf A = \\mathbf U \\mathbf L$.\n",
    "\n",
    "Your algorithm should use Lemma A, and follow and generalise the procedure in questions 1.2 and 1.3 above: Start with $\\mathbf L = \\mathbf A$, loop over columns of $\\mathbf L$ and create zeros above the diagonal.\n",
    "\n",
    "**[10 marks]**"
   ]
  },
  {
   "cell_type": "markdown",
   "metadata": {},
   "source": [
    "**Answer to Q1.4**\n",
    "\n",
    "Input: $\\mathbf A \\in \\mathbb R^{n \\times n}$ <br>\n",
    "Output: $U, L \\in \\mathbb R^{n \\times n}$, the $UL$ factorisation of $A$ <br>\n",
    "<br>\n",
    "1: $L=A$, $U=I$ <br>\n",
    "2: **for** $k = n, ..., 2$ **do** <br>\n",
    "3: &nbsp;&nbsp;&nbsp;&nbsp;&nbsp;&nbsp; **for** $j = k - 1, ..., 1$ **do** <br>\n",
    "4: &nbsp;&nbsp;&nbsp;&nbsp;&nbsp;&nbsp;&nbsp;&nbsp;&nbsp;&nbsp;&nbsp;&nbsp; $U_{jk} = L_{jk}/L_{kk}$ <br>\n",
    "5: &nbsp;&nbsp;&nbsp;&nbsp;&nbsp;&nbsp;&nbsp;&nbsp;&nbsp;&nbsp;&nbsp;&nbsp; $(L_{j0},..,L_{jk}) = (L_{j0},..,L_{jk}) - U_{jk}* (L_{k0},..,L_{kk})$<br>\n",
    "6: &nbsp;&nbsp;&nbsp;&nbsp;&nbsp;&nbsp; **end for** <br>\n",
    "7: **end for** <br>\n",
    "\n",
    "<br>\n",
    "\n",
    "It is important to note that **line 4** for the algorithm encompases Lemma A, since we are changing one matrix $U$ and we are only taking the positive value of the values calulated and as a result encompases both of the lemmas into one line.\n",
    "\n",
    "It is also important to mention why in **line 5** we change the values of the rows from 0 to k. This is because since L is lower triangular we do not need to calulate the values above the diagional since they are 0 once they have been taken away.\n",
    "\n",
    "Also note that in **line 2** we index up to column 2 (The first column has index 1) since when we reach the first column by construction the matrix $L$ should be lower triangualr and we are done.\n",
    "\n"
   ]
  },
  {
   "cell_type": "markdown",
   "metadata": {},
   "source": [
    "### 1.5\n",
    "\n",
    "In the code cell below, write a function that computes the factorisation $\\mathbf A = \\mathbf U \\mathbf L$ for a given matrix $\\mathbf A$. You may assume that such a factorisation exists.\n",
    "\n",
    "Your code should follow your pseudo-code from question 1.4. \n",
    "\n",
    "**[10 marks]**"
   ]
  },
  {
   "cell_type": "code",
   "execution_count": 3,
   "metadata": {},
   "outputs": [
    {
     "name": "stdout",
     "output_type": "stream",
     "text": [
      "[[1. 2. 3.]\n",
      " [0. 1. 4.]\n",
      " [0. 0. 1.]]\n",
      "[[2. 0. 0.]\n",
      " [0. 1. 0.]\n",
      " [3. 1. 1.]]\n"
     ]
    }
   ],
   "source": [
    "import numpy as np\n",
    "\n",
    "def UL(A):\n",
    "    \"\"\"\n",
    "    UL Factorisation - Used to calulate the UL factorisation of A.\n",
    "    \n",
    "    Input: A (np.narray)\n",
    "    Output: U (np.narray), L (np.narray)\n",
    "    \n",
    "    \"\"\"\n",
    "\n",
    "    n = A.shape[0] # Get the dimension of A\n",
    "    L = A          # Let L = A\n",
    "    U = np.eye(n)  # Let U = I\n",
    "    \n",
    "    for k in range(n-1,-1,-1): # Loop over the columns of L from n...1\n",
    "        for j in range(k-1,-1,-1): # Loop over the rows of j from n-1...1 for all the columns\n",
    "            \n",
    "            U[j,k] = L[j,k]/L[k,k] # Update U and use this value to subtract row k from row j of L\n",
    "            L[j,0:k+1] = L[j,0:k+1] - U[j,k]*L[k,0:k+1] # Update row j from 0 to k+1 since U is lower triangular so 0 above the diagonal.\n",
    "                                                        # Subtract U[j,k] (calculated before) times row k for L form row j of L\n",
    "    \n",
    "    \n",
    "    return U, L # Return U and L\n",
    "\n",
    "\n",
    "# Testing the function on a small example\n",
    "A = np.array([[11, 5, 3], [12, 5, 4], [3, 1, 1]], dtype=float)\n",
    "U, L = UL(A)\n",
    "print(U)\n",
    "print(L)"
   ]
  },
  {
   "cell_type": "code",
   "execution_count": 4,
   "metadata": {},
   "outputs": [
    {
     "name": "stderr",
     "output_type": "stream",
     "text": [
      "/opt/conda/lib/python3.7/site-packages/ipykernel_launcher.py:4: DeprecationWarning: This function is deprecated. Please call randint(1, 10 + 1) instead\n",
      "  after removing the cwd from sys.path.\n"
     ]
    },
    {
     "data": {
      "text/plain": [
       "(True, True)"
      ]
     },
     "execution_count": 4,
     "metadata": {},
     "output_type": "execute_result"
    }
   ],
   "source": [
    "#Try with a random matrix and check if it indeed does return an upper and lower triangular matrix\n",
    "import numpy as np\n",
    "\n",
    "n = np.random.random_integers(1, 10)\n",
    "A = np.random.randn(n,n)\n",
    "U, L = UL(A)\n",
    "\n",
    "is_lower = np.allclose(L, np.tril(L)) # check if lower triangular\n",
    "is_upper = np.allclose(U, np.triu(U)) # check if upper triangular\n",
    "is_lower, is_upper"
   ]
  },
  {
   "cell_type": "markdown",
   "metadata": {},
   "source": [
    "### 1.6\n",
    "\n",
    "In the code cell below, write a function that computes the solution $\\mathbf x$ using your algorithm from question 1.1 and the function UL from question 1.5.\n",
    "\n",
    "**[5 marks]**"
   ]
  },
  {
   "cell_type": "code",
   "execution_count": 5,
   "metadata": {},
   "outputs": [
    {
     "name": "stdout",
     "output_type": "stream",
     "text": [
      "[1. 1. 1.]\n"
     ]
    }
   ],
   "source": [
    "import numpy as np\n",
    "\n",
    "def BS(U, b):\n",
    "    \"\"\"\n",
    "    BS - Does backwards substitution to solve Uy = b, since U is lower triangular\n",
    "    \n",
    "    Work taken from workshop 3.\n",
    "    \n",
    "    We can calculate y in the following way, this is what we are doing in side of the for loop:\n",
    "    \n",
    "    b[n]   = U[n,n]*y[n]                       therefore y[n] = b[n]/L[n,n]\n",
    "    b[n-1] = U[n-1,n-1:n]*y[n-1:n] \n",
    "           = U[n-1,n-1]*y[n-1] + U[n-1,n]*y[n] therefore y[n-1] = (b[n-1]-U[n-1,n]*y[n]) / U[n-1,n-1]\n",
    "    .\n",
    "    .\n",
    "    .\n",
    "    b[0]\n",
    "    \n",
    "    Input: U (np.narray), b (1 dimesional np.array)\n",
    "    Output: y (1 dimesional np.array)\n",
    "    \n",
    "    \"\"\"\n",
    "    n = U.shape[0]  # Get the dimension of U\n",
    "    y = np.zeros(n) # Set y as a row of zeros\n",
    "    \n",
    "    for j in range(n-1, -1, -1): # Loop over the rows of U starting from the last row\n",
    "        y[j] = (b[j] - U[j, j+1:] @ y[j+1:]) / U[j, j] # Here we are updating b[j] by solving the equations bottom up directly line by line.\n",
    "    \n",
    "    return y # Return y \n",
    "\n",
    "def FS(L, y):\n",
    "    \"\"\"\n",
    "    FS - Does fowards substitution to solve Lx = y since L is upper triangular\n",
    "    \n",
    "    Work taken from workshop 3.\n",
    "    \n",
    "    We can calculate x in the following way, this is what we are doing in side of the for loop:\n",
    "    \n",
    "    y[0] = L[0,0]*x[0]               therefore x[0] = y[0]/L[0,0]\n",
    "    y[1] = L[1,0:1]*x[0:1] \n",
    "         = L[1,0]*x[0] + L[1,1]*x[1] therefore x[1] = (y[1]-L[1,0]*x[0]) / L[1,1]\n",
    "    .\n",
    "    .\n",
    "    .\n",
    "    y[n]\n",
    "    \n",
    "    \n",
    "    Input: L (np.narray), y (1 dimesional np.array)\n",
    "    Output: x (1 dimesional np.array)\n",
    "    \n",
    "    \"\"\"\n",
    "    n = L.shape[0]\n",
    "    x = np.zeros(n)\n",
    "    \n",
    "    for j in range(n): # Loop over the rows of L starting from the first row since L is upper triangular, so we can easly solve the first unknown and then progressively work down\n",
    "        x[j] = (y[j] - L[j, 0:j] @ x[0:j]) / L[j, j] # Update the rows of x in a top down fashion explianed above.\n",
    "    \n",
    "    return x # Return x\n",
    "\n",
    "def GE_UL(A,b):\n",
    "    \"\"\"\n",
    "    GE_UL, solves the equation Ax = b using UL factorization.\n",
    "    \n",
    "    Input: A (np.narray), b (1 dimesional np.array)\n",
    "    Output: x (1 dimesional np.array)\n",
    "    \n",
    "    \"\"\"\n",
    "    \n",
    "    U, L = UL(A) # Uses the UL method to find the UL factorization of A\n",
    "    y = BS(U, b) # Solves Uy = b using BS method\n",
    "    x = FS(L, y) # Solves Lx = y using FS method\n",
    "    \n",
    "    return x # Returns the solution\n",
    "\n",
    "# Testing the function on the given example\n",
    "A = np.array([[11, 5, 3], [12, 5, 4], [3, 1, 1]], dtype=float)\n",
    "b = np.array([19,21,5], dtype=float) \n",
    "x = GE_UL(A,b)\n",
    "print(x)"
   ]
  },
  {
   "cell_type": "code",
   "execution_count": 6,
   "metadata": {},
   "outputs": [
    {
     "data": {
      "text/plain": [
       "array([ True,  True,  True])"
      ]
     },
     "execution_count": 6,
     "metadata": {},
     "output_type": "execute_result"
    }
   ],
   "source": [
    "# Test that the value above does indeed work\n",
    "import numpy as np\n",
    "\n",
    "A = np.array([[11, 5, 3], [12, 5, 4], [3, 1, 1]], dtype=float)\n",
    "b = np.array([19,21,5], dtype=float)\n",
    "x = np.array([1,1,1], dtype=float) \n",
    "A@x == b "
   ]
  },
  {
   "cell_type": "code",
   "execution_count": 7,
   "metadata": {},
   "outputs": [
    {
     "name": "stderr",
     "output_type": "stream",
     "text": [
      "/opt/conda/lib/python3.7/site-packages/ipykernel_launcher.py:4: DeprecationWarning: This function is deprecated. Please call randint(1, 10 + 1) instead\n",
      "  after removing the cwd from sys.path.\n"
     ]
    },
    {
     "data": {
      "text/plain": [
       "(array([-0.17609885,  0.118157  , -0.54964466, -1.14775121,  1.12104198,\n",
       "         0.9088133 ,  0.40784617,  0.66622264]),\n",
       " array([-0.17609885,  0.118157  , -0.54964466, -1.14775121,  1.12104198,\n",
       "         0.9088133 ,  0.40784617,  0.66622264]))"
      ]
     },
     "execution_count": 7,
     "metadata": {},
     "output_type": "execute_result"
    }
   ],
   "source": [
    "#Try with a random matrix and random b\n",
    "import numpy as np\n",
    "\n",
    "n = np.random.random_integers(1, 10)\n",
    "A = np.random.randn(n,n)\n",
    "A_copy = A.copy() #Copy the original matrix A since A will change when we call GE_UL \n",
    "b = np.random.randn(n)\n",
    "x = GE_UL(A,b)\n",
    "\n",
    "A_copy@x, b"
   ]
  },
  {
   "cell_type": "markdown",
   "metadata": {},
   "source": [
    "### 1.7\n",
    "\n",
    "For the computed solution $\\widehat {\\mathbf x}$ computed by Algorithm GE_UL, study the error and computational time for different choices of the matrix $\\mathbf A$. Discuss your results.\n",
    "\n",
    "Include any numerical tests that you run in the code cell below. \n",
    "\n",
    "**[25 marks]**"
   ]
  },
  {
   "cell_type": "code",
   "execution_count": 8,
   "metadata": {},
   "outputs": [],
   "source": [
    "import numpy as np\n",
    "\n",
    "def randsvd(n, kappa):\n",
    "    \"\"\"\n",
    "    This method creates random matricies with a certain condtional number value assicated with it, we can use this to create\n",
    "    a range of different matricies that ill-conditioned and well-condtioned using SVD.\n",
    "    \n",
    "    This was taken form week 3.2 python example.\n",
    "    \n",
    "    Input: n (int), kappa(int)\n",
    "    Output: A (np.narray)\n",
    "    \n",
    "    \"\"\"\n",
    "    s = np.zeros(n) # Set s to all zeros\n",
    "    \n",
    "    #Loop creates a set of beta^(-1) values and makes the digonal entries of S these values\n",
    "    for i in range(n): #Loop over the indexes of s\n",
    "        beta = kappa**(1/(n-1)) # Calulate beta\n",
    "        s[i] = beta**(-i) # Add beta^(i) to s[i]\n",
    "    \n",
    "    S = np.diag(s) # Create matrix S with digonals of s\n",
    "    \n",
    "    def haar(n):\n",
    "        A = np.random.randn(n, n)\n",
    "        Q, R = np.linalg.qr(A)\n",
    "\n",
    "        for i in range(n):\n",
    "            if R[i, i] < 0:\n",
    "                Q[:, i] *= -1\n",
    "        return Q\n",
    "    \n",
    "    A = haar(n) @ S @ haar(n).T\n",
    "    return A"
   ]
  },
  {
   "cell_type": "code",
   "execution_count": 9,
   "metadata": {},
   "outputs": [],
   "source": [
    "import numpy as np \n",
    "import time\n",
    "\n",
    "def test_GE_UL(k):\n",
    "    \"\"\"\n",
    "    This method is used to test the GE_UL function for different sizes of matricies with a FIXED condtional number.\n",
    "    The value of k determines kappa which is calculated as kappa = 10**k, so when k is small the matricies will be\n",
    "    well-conditioned and if k is large the matricies will be ill-conditioned.\n",
    "    \n",
    "    Input: k (int)\n",
    "    Output: sizes (List of sizes of matricies), \n",
    "            times (List of times to solve Ax=b for each sized matrix), \n",
    "            errors (List of errors assosiated to each matrix when solving Ax=b with GEUL, error calculated using\n",
    "            np.linalg.norm(x - x_hat, np.inf)) \n",
    "    \n",
    "    \"\"\"\n",
    "\n",
    "    # List of sizes, times, and errors\n",
    "    sizes = [x for x in range(100,1700,200)]\n",
    "    times = []\n",
    "    errors = []\n",
    "    kappa = 10**k # Calculate the kappa value\n",
    "    \n",
    "    for n in sizes: # Iterate over the sizes n in the list\n",
    "        \n",
    "        A = randsvd(n, kappa) # Set up random matrix with the kappa value used and the randsvd method\n",
    "        x = np.ones(n)        # Let x be all ones solution to our matrix A\n",
    "        b = A @ x             # Find the asscoiated b vector\n",
    "\n",
    "        t0 = time.time()      # Start time \n",
    "        x_hat = GE_UL(A, b)   # Calculate x_hat using GE_UL\n",
    "        t1 = time.time() - t0 # End time\n",
    "        \n",
    "        times.append(t1) # Append the time elpased to calculate x_hat for the matrix A using GE_UL to times list \n",
    "        errors.append(np.linalg.norm(x - x_hat, np.inf)) # Append the error of calculating x_hat for the matrix A using GE_UL \n",
    "\n",
    "    return sizes, times, errors # Return the all the sizes, times and errors after the loop has iterated over all the sizes of the matricies\n",
    "\n",
    "def test_GE_UL_kappas():\n",
    "    \"\"\"\n",
    "    This method is used to investigate the behaviour for different kappa values: 10**3 -> 10**9.\n",
    "    The value of k determines kappa which is calculated as kappa = 10**k, so when k is small the matricies will be\n",
    "    well-conditioned and if k is large the matricies will be ill-conditioned. We use a fixed value of n (matrix size)\n",
    "    Which is this case will be n = 100. \n",
    "    \n",
    "    Input: \n",
    "    Output: kappas (List of kappa assiociated to each matrix), \n",
    "            times  (List of times to solve Ax=b for each matrix with an assiociated kappa value), \n",
    "            errors (List of errors assosiated to each matrix when solving Ax=b with GEUL, error calculated using\n",
    "            np.linalg.norm(x - x_hat, np.inf)) \n",
    "    \n",
    "    \"\"\"\n",
    "    \n",
    "    # Initalizing list of kappas, times, and errors\n",
    "    kappas = []\n",
    "    times = []\n",
    "    errors = []\n",
    "    \n",
    "    # Initalizing paramters n and x which will be the same over all the values of kappa\n",
    "    n = 100\n",
    "    x = np.ones(n) # x will be a vectors of ones, solution to our equation\n",
    "\n",
    "    for k in range(3, 9):\n",
    "        \n",
    "        kappa = 10**k         # Calculate the kappa value\n",
    "        A = randsvd(n, kappa) # Set up random matrix with the kappa value used and the randsvd method\n",
    "        b = A @ x             # Find the asscoiated b vector\n",
    "\n",
    "        t0 = time.time()      # Start time \n",
    "        x_hat = GE_UL(A, b)   # Calculate x_hat using GE_UL\n",
    "        t1 = time.time() - t0 # End time\n",
    "\n",
    "        times.append(t1) # Append the time elpased to calculate x_hat for the matrix A using GE_UL to times list \n",
    "        kappas.append(kappa) # Append the kappa used to calculate x_hat for the matrix A to kappas list \n",
    "        errors.append(np.linalg.norm(x - x_hat, np.inf)) # Append the error of calculating x_hat for the matrix A using GE_UL\n",
    "\n",
    "    return kappas, times, errors # Return the all the kappas, times and errors after the loop has iterated over all the sizes of the matricies\n"
   ]
  },
  {
   "cell_type": "code",
   "execution_count": 10,
   "metadata": {},
   "outputs": [],
   "source": [
    "import matplotlib.pyplot as plt\n",
    "\n",
    "def plot_GE_UL(sizes, times, errors, type_of_matrix):\n",
    "    \"\"\"\n",
    "    Method used to plot 2 graphs one of times against sizes and other of errors agaisnt sizes. Takes in the 3 lists\n",
    "    that are generated from the test_GE_UL method above. type_of_matrix indicates what type of matrix was used to \n",
    "    annotate the graphs.\n",
    "    \n",
    "    Input: sizes (List of sizes of matricies), \n",
    "           times (List of times to solve Ax=b for each sized matrix), \n",
    "           errors (List of errors assosiated to each matrix when solving Ax=b with GEUL, error calculated using\n",
    "           np.linalg.norm(x - x_hat, np.inf)),\n",
    "           type_of_matrix (string)\n",
    "    Output: displays 2 graphs\n",
    "    \n",
    "    \"\"\"\n",
    "\n",
    "    fig, ax = plt.subplots(1,2,figsize=(14,7)) # Initalize the figure with 2 subplots \n",
    "\n",
    "    # First ax plots times against sizes \n",
    "    ax[0].scatter(sizes,times) #Scatter the points\n",
    "    ax[0].set_xlabel('N')    # Set the xlabel\n",
    "    ax[0].set_ylabel('Time') # Set the ylabel\n",
    "    ax[0].set_title('Time to calculate against N for {} matricies'.format(type_of_matrix)) # Set the title\n",
    "\n",
    "    # Second ax plots errors against sizes \n",
    "    ax[1].scatter(sizes,errors) #Scatter the points\n",
    "    plt.yscale('log') #Change the y axis to log so easier to see the points\n",
    "    ax[1].set_xlabel('N')      # Set the xlabel\n",
    "    ax[1].set_ylabel('Errors') # Set the ylabel\n",
    "    ax[1].set_title('Errors against N for {} matricies'.format(type_of_matrix)) # Set the title\n",
    "\n",
    "    plt.show() # Show the plots\n"
   ]
  },
  {
   "cell_type": "code",
   "execution_count": 11,
   "metadata": {},
   "outputs": [
    {
     "data": {
      "image/png": "[encoded data removed]",
      "text/plain": [
       "<Figure size 1008x504 with 2 Axes>"
      ]
     },
     "metadata": {
      "needs_background": "light"
     },
     "output_type": "display_data"
    },
    {
     "data": {
      "image/png": "[encoded data removed]",
      "text/plain": [
       "<Figure size 1008x504 with 2 Axes>"
      ]
     },
     "metadata": {
      "needs_background": "light"
     },
     "output_type": "display_data"
    }
   ],
   "source": [
    "# Plotting the grpahs for the Well-Condtioned and Ill-Condtioned matrix analysis\n",
    "\n",
    "well_condtioned = test_GE_UL(0) # Well-Condtioned matrix with kappa = 10**0 = 1\n",
    "ill_condtioned = test_GE_UL(8)  # Ill-Condtioned matrix with kappa = 10**8\n",
    "\n",
    "plot_GE_UL(ill_condtioned[0], ill_condtioned[1], ill_condtioned[2], \"well-conditoned\") # Plot data for well-conditoned matrix \n",
    "plot_GE_UL(ill_condtioned[0], ill_condtioned[1], ill_condtioned[2], \"ill_condtioned\") # Plot data for ill-conditoned matrix "
   ]
  },
  {
   "cell_type": "code",
   "execution_count": 12,
   "metadata": {},
   "outputs": [],
   "source": [
    "import matplotlib.pyplot as plt\n",
    "\n",
    "\n",
    "def plot_GE_UL_kappas(kappas, times, errors):\n",
    "    \"\"\"\n",
    "    Method used to plot 2 graphs one of times against sizes and other of errors agaisnt sizes. Takes in the 3 lists\n",
    "    that are generated from the test_GE_UL method above. type_of_matrix indicates what type of matrix was used to \n",
    "    annotate the graphs.\n",
    "    \n",
    "    Input: kappas (List of kappas of matricies), \n",
    "           times (List of times to solve Ax=b for each kappa), \n",
    "           errors (List of errors assosiated to each matrix when solving Ax=b with GEUL, error calculated using np.linalg.norm(x - x_hat, np.inf))\n",
    "    Output: displays 2 graphs\n",
    "    \n",
    "    \"\"\"\n",
    "\n",
    "    fig, ax = plt.subplots(1,2,figsize=(14,7)) # Initalize the figure with 2 subplots \n",
    "\n",
    "    # First ax plots kappas against error \n",
    "    ax[0].plot(kappas,errors) #Scatter the points\n",
    "    ax[0].set_yscale('log') #Change the y axis to log so easier to see the points\n",
    "    ax[0].set_xscale('log') #Change the x axis to log so easier to see the points\n",
    "    ax[0].set_xlabel('$\\kappa$')    # Set the xlabel\n",
    "    ax[0].set_ylabel('Error')       # Set the ylabel\n",
    "    ax[0].set_title('Errors against $\\kappa$ for matricies of size 100') # Set the title\n",
    "    \n",
    "\n",
    "    # Second ax plots errors against sizes \n",
    "    ax[1].scatter(kappas,times) #Scatter the points\n",
    "    ax[1].set_xscale('log') #Change the x axis to log so easier to see the points\n",
    "    ax[1].set_xlabel('$\\kappa$') # Set the xlabel\n",
    "    ax[1].set_ylabel('Times')    # Set the ylabel\n",
    "    ax[1].set_title('Times against $\\kappa$ for matricies of size 100') # Set the title\n",
    "    \n",
    "    plt.show() # Show the plots\n"
   ]
  },
  {
   "cell_type": "code",
   "execution_count": 13,
   "metadata": {},
   "outputs": [
    {
     "data": {
      "image/png": "[encoded data removed]",
      "text/plain": [
       "<Figure size 1008x504 with 2 Axes>"
      ]
     },
     "metadata": {
      "needs_background": "light"
     },
     "output_type": "display_data"
    }
   ],
   "source": [
    "kappas_data = test_GE_UL_kappas()\n",
    "plot_GE_UL_kappas(kappas_data[0],kappas_data[1],kappas_data[2])"
   ]
  },
  {
   "cell_type": "markdown",
   "metadata": {},
   "source": [
    "**Answer to Q1.7**\n",
    "\n",
    "***Well-condtioned matricies:*** <br>\n",
    "\n",
    "We can see that the computation times of the algorithm increases as $n$ increases. This is what we expect. The growth is clearly not linear form the graph for $n$ values from 100 to 1500 this is because our algorithm has a $O(n^3)$ time complexity so as a result the time is upper bounded by a cubic with respect to the size of $n$ given. <br>\n",
    "\n",
    "Likewise we can see that the error of $\\widehat {\\mathbf x}$ increases as the size $n$ of the matrix increases. This also does not come as a suprise, this is because as we increase the dimensions of the matrix we have to do more computations and as a result we would expect our error to increase.\n",
    "\n",
    "We can see that the relationship between error and $n$ is linear, we can derive this from **Theorem 2.9** and **2.11** to see why this is the case.\n",
    "\n",
    "**Theorem 2.9** : Let $\\widehat {\\mathbf x}$ be the computed solution to (SLE) by Algorithm GEPP. Then $(A+∆A)\\widehat {\\mathbf x}= b$ , where, with $p(n)$ a cubic polynomial, <br><br>$$\\| ∆A\\|_{\\infty} \\leqslant p(n)2^{n-1}\\epsilon_{m}\\|A\\|_{\\infty} $$ <br>\n",
    "\n",
    "**Theorem 2.11** : Let $Ax = b$ and $(A+∆A)\\widehat {\\mathbf x}= b$. If $\\kappa_{p}(A)\\| ∆A\\|_{p} < \\|A\\|_{p}$ then, <br><br>\n",
    "\n",
    "$$ \\frac{\\| \\mathbf x - \\widehat {\\mathbf x}\\|_{p}}{| \\mathbf x\\|_{p}} \\leqslant \\frac{\\kappa_{p}(A)}{1-\\kappa_{p}(A)\\frac{\\| ∆A\\|_{p}}{\\|A\\|_{p}}}\\cdot\\frac{\\| ∆A\\|_{p}}{\\|A\\|_{p}}$$ <br>\n",
    "\n",
    "As a result we can find an expression for $\\| \\mathbf x - \\widehat {\\mathbf x}\\|$ in terms of $n$ and $\\epsilon_{m}$.\n",
    "\n",
    "Rearranging **Theorem 2.9** we can write it as $\\frac{\\| ∆A\\|_{\\infty}}{\\|A\\|_{\\infty}} = p(n)2^{n-1}\\epsilon_{m}$ which we can then substitute into **Theorem 2.11** to get:\n",
    "\n",
    "$$ \\frac{\\| \\mathbf x - \\widehat {\\mathbf x}\\|_{p}}{| \\mathbf x\\|_{p}} \\leqslant \\frac{\\kappa_{p}(A)p(n)2^{n-1}\\epsilon_{m}}{1-\\kappa_{p}(A)p(n)2^{n-1}\\epsilon_{m}}$$\n",
    "\n",
    "<br>\n",
    "\n",
    "We can now approximate this inequality as $$ \\frac{\\| \\mathbf x - \\widehat {\\mathbf x}\\|_{p}}{| \\mathbf x\\|_{p}} \\leqslant \\frac{\\kappa_{p}(A)p(n)2^{n-1}\\epsilon_{m}}{1-\\kappa_{p}(A)p(n)2^{n-1}\\epsilon_{m}} \\approx \\kappa_{p}(A)p(n)2^{n-1}\\epsilon_{m} $$\n",
    "\n",
    "<br>\n",
    "\n",
    "This is because if we let $ \\frac{\\beta}{1- \\beta}$ where $\\beta = \\kappa_{p}(A)p(n)2^{n-1}\\epsilon_{m}$ we can assume that $\\beta << 1$ since $\\kappa_{p}(A)p(n)2^{n-1}\\epsilon_{m} \\approx 0$ since $\\epsilon_{m} \\approx 10^{-16}$ so as a result we get that $ 1- \\beta \\approx 1$.\n",
    "\n",
    "<br>\n",
    "\n",
    "This shows us that the error $\\| \\mathbf x - \\widehat {\\mathbf x}\\|_{\\infty}$ has a linear relationship with $\\kappa_{p}(A)p(n)2^{n-1}\\epsilon_{m}$ which means that as $n$ increases the error also increases linearly which we can see from the graph.\n",
    "\n",
    "***Ill-condtioned matricies:*** <br>\n",
    "\n",
    "Like well-condtioned matricies the computation times of the algorithm increases as $n$ increases. This is what we expect. The growth is clearly not linear form the graph for $n$ values from 100 to 1500 this is because our algorithm has a $O(n^3)$ time complexity so as a result the time upper bounded by a cubic with respect to the size of $n$ given.\n",
    "\n",
    "Likewise we can see that the error of $\\widehat {\\mathbf x}$ increases as the size $n$ of the matrix increases. This also does not come as a suprise, this is because as we increase the dimensions of the matrix we have to do more computations and as a result we would expect to our error to increase. However what is worth noting is that the errors for the same $n$ are greater for ill-condtioned matricies. This is because, if we use the derivation above, we can see that the error $\\| \\mathbf x - \\widehat {\\mathbf x}\\|_{\\infty}$ has a linear relationship with $\\kappa_{p}(A)p(n)2^{n-1}\\epsilon_{m}$. From the definition of $\\kappa_{p}(A)$ we can see that if matrix A is ill condtioned $\\kappa_{p}(A)$ is large. This means that $\\kappa_{p}(A_{well}) < \\kappa_{p}(A_{ill}) $ and so we have a term that is greater, so for matricies of the same size $n$ ,$\\kappa_{p}(A)p(n)2^{n-1}\\epsilon_{m}$ will be greater for ill- conditioned than for well-condtioned so as a reulst the error will also be greater. Which we can see form the second graph.\n",
    "\n",
    "***Errors against $\\kappa_{p}(A)$***\n",
    "\n",
    "The last graph on the left shows what we expect from the theory. For a fixed size $n$ for a matrix if we change the $\\kappa_{p}(A)$ value we can see that the error increases this falls from the fact that $ \\frac{\\| \\mathbf x - \\widehat {\\mathbf x}\\|_{p}}{| \\mathbf x\\|_{p}} \\approx \\kappa_{p}(A)p(n)2^{n-1}\\epsilon_{m} $ and since n is fixed and $\\kappa_{p}(A)$ increases as a result our error $\\| \\mathbf x - \\widehat {\\mathbf x}\\|_{p}$ increases linearly too.\n",
    "\n",
    "***Times against $\\kappa_{p}(A)$***\n",
    "\n",
    "The last graph shows what we expect from the theory. For a fixed size $n$ for a matrix if we change the $\\kappa_{p}(A)$ value we can see that the time doesnt change proportionally since the time does not depend on the matrix if it is ill conditioned or not but rather on the size of the matrix, so since n = 100 is fixed for these matricies the time dont follow a linear relationship with repect to $\\kappa_{p}(A)$."
   ]
  },
  {
   "cell_type": "markdown",
   "metadata": {},
   "source": [
    "### 1.8\n",
    "\n",
    "Similar to Algorithm LUPP, write down an algorithm called Algorithm ULPP that introduces row swaps to improve stability and computes a factorisation $\\mathbf P \\mathbf A = \\mathbf U \\mathbf L$.\n",
    "\n",
    "Explain any changes that you have introduced into the algorithm described in question 1.4.\n",
    "\n",
    "*(You do not need to implement the new algorithm in Python, you only need to write down the pseudo-code as in Algorithm LUPP.)*\n",
    "\n",
    "**[15 marks]**"
   ]
  },
  {
   "cell_type": "markdown",
   "metadata": {},
   "source": [
    "**Answer to Q1.8**\n",
    "\n",
    "Input: $\\mathbf A \\in \\mathbb R^{n \\times n}$ <br>\n",
    "Output: $U, L, P \\in \\mathbb R^{n \\times n}$,with $PA = UL$, L unit lower triangular, U non-singular upper triangular, and P a permutation matrix \n",
    "\n",
    "1: $L=A$, $U=I$, $P=I$<br>\n",
    "2: **for** $k = n, ..., 2$ **do**<br>\n",
    "3: &nbsp;&nbsp;&nbsp;&nbsp;&nbsp;&nbsp; Choose i ∈ {1,...,k} which maximises $|L_{ik}|$<br>\n",
    "4: &nbsp;&nbsp;&nbsp;&nbsp;&nbsp;&nbsp; Exchange row $(L_{k0},...,L_{kk})$ with $(L_{i0},...,L_{ik})$<br>\n",
    "5: &nbsp;&nbsp;&nbsp;&nbsp;&nbsp;&nbsp; Exchange row $(U_{kk+1},...,U_{kn})$ with $(U_{ik+1},...,U_{in})$<br>\n",
    "6: &nbsp;&nbsp;&nbsp;&nbsp;&nbsp;&nbsp; Exchange row $(P_{k0},...,P_{kk})$ with $(P_{i0},...,P_{ik})$<br>\n",
    "7: &nbsp;&nbsp;&nbsp;&nbsp;&nbsp;&nbsp; **for** $j = k - 1, ..., 1$ **do** <br>\n",
    "8: &nbsp;&nbsp;&nbsp;&nbsp;&nbsp;&nbsp;&nbsp;&nbsp;&nbsp;&nbsp;&nbsp;&nbsp; $U_{jk} = L_{jk}/L_{kk}$ <br>\n",
    "9: &nbsp;&nbsp;&nbsp;&nbsp;&nbsp;&nbsp;&nbsp;&nbsp;&nbsp;&nbsp;&nbsp;&nbsp; $(L_{j0},..,L_{jk}) = (L_{j0},..,L_{jk}) - U_{jk}* (L_{jk},..,L_{jk})$<br>\n",
    "10: &nbsp;&nbsp;&nbsp;&nbsp;&nbsp;&nbsp; **end for** <br>\n",
    "11: **end for** \n",
    "\n",
    "The initialization in **line 1** is different since I have added an extra matrix $P$ which will be the permutation matrix used to swap the rows.\n",
    "\n",
    "I have also made other changes to algorithm 1.4. I have added in the loop in **line 2** to iterate over the columns of $L$ to find the greatest value in that column in **line 3** and then the **lines 4-6** I updated the matricies accordyling to the take into account the new greatest value of the column when we put that value in the diagonal. Then **lines 7-9** remain the same from Algorithm UL.\n",
    "\n",
    "In **line 3** we find the index $i$ that is the value fo the column $L_{_k}$, then in **line 4** we need to swap these rows in the matrix $L$. note we only swap from index $0$ up to $k$ this is becasue $L$ is lower trinagular so we dont need to swap entries above the diagonal since they are $0$. We do the same for the permutation matrix $P$ in **line 6**.\n",
    "\n",
    "We also have to switch the rows in matrix $U$ in **line 5** however since $U$ is upper triangular we only need to change the indexes from $k+1$ up to $n$, since again the entries below the diagonal are 0.\n",
    "\n"
   ]
  },
  {
   "cell_type": "markdown",
   "metadata": {},
   "source": [
    "# Question 2 [20 marks]\n",
    "\n",
    "Consider the system of linear equations\n",
    "$$\n",
    "\\mathbf A \\mathbf x = \\mathbf b,\n",
    "$$\n",
    "where $\\mathbf A \\in \\mathbb R^{n \\times n}$ is invertible and $\\mathbf b \\in \\mathbb R^n$. Let $\\mathbf D \\in \\mathbb R^{n \\times n}$ be a diagonal and invertible.\n",
    "\n",
    "Consider the following two approaches for finding the solution $\\mathbf x$:\n",
    "\n",
    "*Approach 1:* Solve the system $\\mathbf A \\mathbf x = \\mathbf b$ directly.\n",
    "\n",
    "*Approach 2:* Calculate $\\mathbf D \\mathbf A \\mathbf D$ and $\\mathbf D\\mathbf b$, solve the system $\\mathbf D \\mathbf A \\mathbf D \\mathbf y = \\mathbf D\\mathbf b$, and calculate $\\mathbf x = \\mathbf D \\mathbf y$.\n",
    "\n",
    "Suppose we use Algorithm GEPP to solve the linear systems in Approach 1 and 2."
   ]
  },
  {
   "cell_type": "markdown",
   "metadata": {},
   "source": [
    "### Question 2.1\n",
    "\n",
    "Show that vector $\\mathbf x$ calculated in Approach 2 indeed solves $\\mathbf A \\mathbf x = \\mathbf b$.\n",
    "\n",
    "**[5 marks]**"
   ]
  },
  {
   "cell_type": "markdown",
   "metadata": {},
   "source": [
    "**Answer to Q2.1**\n",
    "\n",
    "We have $ \\tag{1} \\mathbf D\\mathbf A \\mathbf D \\mathbf y= \\mathbf D \\mathbf b$ <br> $ \\tag{2} \\mathbf x = \\mathbf D \\mathbf y$ \n",
    "\n",
    "We can sub (2) into (1) to get:\n",
    "\n",
    "$$ \\mathbf D\\mathbf A\\mathbf x= \\mathbf D\\mathbf b \\Leftrightarrow \\mathbf A\\mathbf x=\\mathbf D^{-1}\\mathbf D\\mathbf b \\Leftrightarrow  \\mathbf A\\mathbf x=\\mathbf I\\mathbf b \\Leftrightarrow \\mathbf A\\mathbf x=\\mathbf b $$\n",
    "\n",
    "As a result $\\mathbf x$ that was calculated in Approach 2 indeed solves $\\mathbf A \\mathbf x = \\mathbf b$."
   ]
  },
  {
   "cell_type": "markdown",
   "metadata": {},
   "source": [
    "### Question 2.2\n",
    "\n",
    "Given $\\mathbf A$, $\\mathbf b$ and $\\mathbf D$, how would you decide whether to use Approach 1 or Approach 2, when your goal is to compute the solution with the smallest error $\\|\\widehat{\\mathbf{x}} - \\mathbf x\\|_\\infty$? \n",
    "\n",
    "You may assume that you can compute any desired properties of $\\mathbf A$, $\\mathbf D$, $\\mathbf D \\mathbf A \\mathbf D$, $\\mathbf b$ and $\\mathbf D \\mathbf b$.\n",
    "\n",
    "**[5 marks]**"
   ]
  },
  {
   "cell_type": "markdown",
   "metadata": {},
   "source": [
    "**Answer to Q2.2**\n",
    "\n",
    "Since we know that $ \\frac{\\| \\mathbf x - \\widehat {\\mathbf x}\\|_{\\infty}}{| \\mathbf x\\|_{\\infty}} \\approx \\kappa_{\\infty}(\\mathbf A)p(n)2^{n-1}\\epsilon_{m} $ from **Theorem 2.9** and **Theorem 2.11** and the derivation above in question **1.7** we can calulate $\\kappa_{\\infty}(\\mathbf A)$ and $\\kappa_{\\infty}(\\mathbf D\\mathbf A \\mathbf D)$ and see which one is smaller and then we would use that approach that has the corresponding smaller value. Where $\\kappa_{\\infty}(\\mathbf A) = \\|\\mathbf A\\|_{\\infty} \\|\\mathbf A^{-1}\\|_{\\infty}$ we can calculate this value for both matricies since both $\\mathbf A$ and $ \\mathbf D$ are inveritble and so as reuslt we can also calculate $(DAD)^{-1} = D^{-1}A^{-1}D^{-1}$ which is used to find the condtional number of A. Note that this is the case because $n$ and $\\epsilon_{m}$ will be fixed."
   ]
  },
  {
   "cell_type": "markdown",
   "metadata": {},
   "source": [
    "### Question 2.3\n",
    "\n",
    "Consider the specific example\n",
    "    $$\n",
    "    \\mathbf A =\n",
    "        \\begin{bmatrix} 1.00001\\times 10^{6} & 1 \\\\ 1 & 10^{-4} \\end{bmatrix},\n",
    "    \\mathbf b =\n",
    "    \\begin{bmatrix} 1.000011 \\times 10^6 \\\\ 1.0001  \\end{bmatrix},\n",
    "    $$\n",
    "    and\n",
    "    $$\n",
    "    \\mathbf D =\n",
    "    \\begin{bmatrix} 10^{-2} & 0 \\\\ 0 & \\sqrt{1.00001}\\times 10^{3} \\end{bmatrix}.\n",
    "    $$\n",
    "    \n",
    "The solution to $\\mathbf A \\mathbf x = \\mathbf b$ is given by\n",
    "$$\n",
    "\\mathbf x =\n",
    "    \\begin{bmatrix} 1 \\\\ 1  \\end{bmatrix}.\n",
    "    $$\n",
    "        \n",
    "Which of the two approaches is better to use for this example, if we have the same goal as in question 2.2?\n",
    "\n",
    "Compare the matrices $\\mathbf A$ and $\\mathbf D \\mathbf A \\mathbf D$ in terms of properties that are relevant to the accuracy of the computed solution $\\widehat{\\mathbf x}$.\n",
    "\n",
    "Include any code that you use to support your answer in the code cell below. You may use any built-in Python functions that you find useful.\n",
    "\n",
    "**[10 marks]**"
   ]
  },
  {
   "cell_type": "code",
   "execution_count": 14,
   "metadata": {},
   "outputs": [
    {
     "data": {
      "text/plain": [
       "True"
      ]
     },
     "execution_count": 14,
     "metadata": {},
     "output_type": "execute_result"
    }
   ],
   "source": [
    "import numpy as np\n",
    "\n",
    "# Here we are explicitly calculating the errors \n",
    "# Computing solution using the built-in solver since it uses the GEPP algorithm\n",
    "\n",
    "A = np.array([[1.00001*(10**6), 1], [1, 10**(-4)]], dtype=float)          # Defining A from the example\n",
    "D = np.array([[10**(-2), 0], [0, np.sqrt(1.00001)*(10**3)]], dtype=float) # Defining D from the example\n",
    "b = np.array([1.000011*(10**6), 1.0001], dtype=float)                     # Defining b from the example\n",
    "x = np.array([1,1], dtype=float)                                          # Defining the actual value of x \n",
    "\n",
    "DAD = D@A@D # Calulate DAD\n",
    "Db = D@b    # Calulate Db\n",
    "\n",
    "# Calulated values of x using approaches 1 and 2:\n",
    "x1 = np.linalg.solve(A, b)\n",
    "x2 = D @ np.linalg.solve(DAD, Db) #solving approach 2 putting all the steps together\n",
    "\n",
    "# Show that the error in approach 1 (x1) is greater for this set of matricies than that of approach 2:\n",
    "np.linalg.norm(x1 - x, np.inf) > np.linalg.norm(x2 - x, np.inf)"
   ]
  },
  {
   "cell_type": "code",
   "execution_count": 15,
   "metadata": {},
   "outputs": [
    {
     "name": "stdout",
     "output_type": "stream",
     "text": [
      "Condtional number of A: 10101130292.835426 \n",
      "Condtional number of DAD: 1.2222209876642662\n"
     ]
    }
   ],
   "source": [
    "import numpy as np\n",
    "\n",
    "def conditional_number_inf(A):\n",
    "    \"\"\"\n",
    "    Function that calulates the conditional number with the inifity norm for a matrix A\n",
    "    \n",
    "    Input: A (np.narray)\n",
    "    Output : kappa (float)\n",
    "    \"\"\"\n",
    "    kappa = np.linalg.norm(A, np.inf)*np.linalg.norm(np.linalg.inv(A), np.inf) #Calculate the conditional number from the definition\n",
    "    return kappa # Return the value of the conditional number\n",
    "\n",
    "print(\"Condtional number of A: {} \\nCondtional number of DAD: {}\".format(conditional_number_inf(A), conditional_number_inf(DAD)))"
   ]
  },
  {
   "cell_type": "markdown",
   "metadata": {},
   "source": [
    "**Answer to Q2.3**\n",
    "\n",
    "In this case we would use **Approach 2** this is becasue when we calulate the conditional number for $\\mathbf D\\mathbf A\\mathbf D$ and $\\mathbf A$, the value for $\\kappa_{\\infty}(\\mathbf DAD) \\approx 1$ which is considerbaly less that the $\\kappa_{\\infty}(\\mathbf A) \\approx 1.01*10^{10} $ and so as a result of  $\\|\\widehat{\\mathbf{x}} - \\mathbf x\\|_\\infty$ will be smaller for $\\mathbf D\\mathbf A\\mathbf D$. <br>\n",
    "\n",
    "Just to confirm the above we can show this explicilty by calulating $\\widehat{\\mathbf{x}}$ by using the built-in np.linalg.solve which uses GEPP to solve $\\mathbf A\\mathbf x=\\mathbf b$ for both approaches. Then we can calulate the error $\\|\\widehat{\\mathbf{x}} - \\mathbf x\\|_\\infty$ that rises by using the 2 approaches. When we can compare then errors calulated where we can see that the error using $\\mathbf A$ is greater than the error calulated using $\\mathbf D\\mathbf A\\mathbf D$. (Note: I do realize we are not supposed to calulate $\\widehat{\\mathbf{x}}$ and find the error I just wanted to illustarte that is indeed the case explicitly.)"
   ]
  }
 ],
 "metadata": {
  "kernelspec": {
   "display_name": "Python 3",
   "language": "python",
   "name": "python3"
  },
  "language_info": {
   "codemirror_mode": {
    "name": "ipython",
    "version": 3
   },
   "file_extension": ".py",
   "mimetype": "text/x-python",
   "name": "python",
   "nbconvert_exporter": "python",
   "pygments_lexer": "ipython3",
   "version": "3.7.6"
  }
 },
 "nbformat": 4,
 "nbformat_minor": 2
}
